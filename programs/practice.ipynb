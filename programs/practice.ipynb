{
 "cells": [
  {
   "cell_type": "code",
   "execution_count": 1,
   "id": "d5cfbc7f",
   "metadata": {},
   "outputs": [],
   "source": [
    "n = 100"
   ]
  },
  {
   "cell_type": "code",
   "execution_count": 25,
   "id": "a585a554",
   "metadata": {},
   "outputs": [
    {
     "name": "stdout",
     "output_type": "stream",
     "text": [
      "1 ['1', '2', 'Fizz']\n",
      "2 ['2', 'Fizz', '4']\n",
      "3 ['Fizz', '4', 'Buzz']\n",
      "4 ['4', 'Buzz', 'Fizz']\n",
      "5 ['Buzz', 'Fizz', '7']\n",
      "6 ['Fizz', '7', '8']\n",
      "7 ['7', '8', 'Fizz']\n",
      "8 ['8', 'Fizz', 'Buzz']\n",
      "9 ['Fizz', 'Buzz', '11']\n",
      "10 ['Buzz', '11', 'Fizz']\n",
      "11 ['11', 'Fizz', '13']\n",
      "12 ['Fizz', '13', '14']\n",
      "13 ['13', '14', 'FizzBuzz']\n",
      "14 ['14', 'FizzBuzz', '16']\n",
      "15 ['FizzBuzz', '16', '17']\n"
     ]
    }
   ],
   "source": [
    "for i in range(1,16):\n",
    "    tmp_list = []\n",
    "    for j in range(3):\n",
    "        if (i + j)%15 == 0:\n",
    "            val = \"FizzBuzz\"\n",
    "        elif (i + j)%5 == 0:\n",
    "            val = \"Buzz\"\n",
    "        elif (i + j)% 3 == 0:\n",
    "            val = \"Fizz\"\n",
    "        else:\n",
    "            val = str(i + j)\n",
    "        tmp_list.append(val)\n",
    "    print(i,tmp_list)"
   ]
  },
  {
   "cell_type": "code",
   "execution_count": null,
   "id": "aa4f8173",
   "metadata": {},
   "outputs": [],
   "source": [
    "a = input()\n",
    "b = input()\n",
    "c = input()\n",
    "\n",
    "if a not in [\"Fizz\", \"Buzz\",\"FizzBuzz\"]:\n",
    "    print(int(a) + 3)\n",
    "elif a == \"FizzBuzz\":\n",
    "    print(int(b) + 2)\n",
    "elif a == \"Buzz\":\n",
    "    if b == \"Fizz\":\n",
    "        print(int(c) + 1)\n",
    "    else:\n",
    "        print(int(b) + 2)\n",
    "else:\n",
    "    if c == \"Buzz\":\n",
    "        print(int(b) + 2)\n",
    "    else:\n",
    "        print(int(c) + 1)\n",
    "\n"
   ]
  },
  {
   "cell_type": "code",
   "execution_count": 17,
   "id": "80fd8c99",
   "metadata": {},
   "outputs": [],
   "source": [
    "answer_list = []\n",
    "num = 666\n",
    "while len(answer_list) < 187:\n",
    "    if \"666\" in str(num):\n",
    "        answer_list.append(str(num))\n",
    "        num = num + 1\n",
    "    else:\n",
    "        num = num + 1\n"
   ]
  },
  {
   "cell_type": "code",
   "execution_count": 18,
   "id": "42317cde",
   "metadata": {},
   "outputs": [
    {
     "data": {
      "text/plain": [
       "'66666'"
      ]
     },
     "execution_count": 18,
     "metadata": {},
     "output_type": "execute_result"
    }
   ],
   "source": [
    "answer_list[-1]"
   ]
  }
 ],
 "metadata": {
  "kernelspec": {
   "display_name": "Python 3",
   "language": "python",
   "name": "python3"
  },
  "language_info": {
   "codemirror_mode": {
    "name": "ipython",
    "version": 3
   },
   "file_extension": ".py",
   "mimetype": "text/x-python",
   "name": "python",
   "nbconvert_exporter": "python",
   "pygments_lexer": "ipython3",
   "version": "3.10.10"
  }
 },
 "nbformat": 4,
 "nbformat_minor": 5
}
